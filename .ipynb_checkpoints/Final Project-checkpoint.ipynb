{
 "cells": [
  {
   "cell_type": "code",
   "execution_count": 2,
   "id": "3cd5548b-29d0-4bee-8a15-39fa07b2e42c",
   "metadata": {},
   "outputs": [],
   "source": [
    "import csv"
   ]
  },
  {
   "cell_type": "code",
   "execution_count": 4,
   "id": "a885d454-e9d5-4bed-a435-4a77c722dbb8",
   "metadata": {},
   "outputs": [],
   "source": [
    "import pandas as pd"
   ]
  },
  {
   "cell_type": "code",
   "execution_count": 12,
   "id": "a7c74e48-f19b-4c94-958c-14a000f4ef0c",
   "metadata": {},
   "outputs": [],
   "source": [
    "myDict = {}\n",
    "\n",
    "with open(\"data/2024-annual-report-report-data-all-states copy.csv\", \"r\", encoding = \"utf-8\", errors = \"replace\") as file:\n",
    "\n",
    "    csvReader = csv.reader(file, delimiter = \",\")\n",
    "    next(csvReader)\n",
    "\n",
    "    for row in csvReader:\n",
    "        factor = row[1]\n",
    "        state = row[2]\n",
    "        value = row[3]\n",
    "        rank = row[5]\n",
    "\n",
    "        if state == \"HI\" or state == \"IA\" or state == \"ND\" or state == \"MI\" or state == \"WV\":\n",
    "            if state not in myDict:\n",
    "                myDict[state] = {}\n",
    "                \n",
    "            if factor == \"Depression\":\n",
    "                myDict[state][\"Depression\"] = value\n",
    "                myDict[state][\"Depression State Ranking\"] = rank\n",
    "                \n",
    "            if factor == \"Insufficient Sleep\":\n",
    "                myDict[state][\"Insufficient Sleep\"] = value\n",
    "\n",
    "            if factor == \"Adverse Childhood Experiences\":\n",
    "                myDict[state][\"Adverse Childhood Experiences\"] = value\n",
    "\n",
    "            if factor == \"Poverty\":\n",
    "                myDict[state][\"Poverty\"] = value\n",
    "\n",
    "            if factor == \"Food Insecurity\":\n",
    "                myDict[state][\"Food Insecurity\"] = value\n",
    "\n",
    "                \n",
    " "
   ]
  },
  {
   "cell_type": "code",
   "execution_count": 32,
   "id": "c2651cac-3747-4978-b119-f62f008c3270",
   "metadata": {},
   "outputs": [
    {
     "data": {
      "text/html": [
       "<div>\n",
       "<style scoped>\n",
       "    .dataframe tbody tr th:only-of-type {\n",
       "        vertical-align: middle;\n",
       "    }\n",
       "\n",
       "    .dataframe tbody tr th {\n",
       "        vertical-align: top;\n",
       "    }\n",
       "\n",
       "    .dataframe thead th {\n",
       "        text-align: right;\n",
       "    }\n",
       "</style>\n",
       "<table border=\"1\" class=\"dataframe\">\n",
       "  <thead>\n",
       "    <tr style=\"text-align: right;\">\n",
       "      <th></th>\n",
       "      <th>HI</th>\n",
       "      <th>IA</th>\n",
       "      <th>ND</th>\n",
       "      <th>MI</th>\n",
       "      <th>WV</th>\n",
       "    </tr>\n",
       "  </thead>\n",
       "  <tbody>\n",
       "    <tr>\n",
       "      <th>Depression State Ranking</th>\n",
       "      <td>1</td>\n",
       "      <td>13</td>\n",
       "      <td>25</td>\n",
       "      <td>36</td>\n",
       "      <td>48</td>\n",
       "    </tr>\n",
       "    <tr>\n",
       "      <th>Depression</th>\n",
       "      <td>13.9</td>\n",
       "      <td>19.2</td>\n",
       "      <td>22.3</td>\n",
       "      <td>24.1</td>\n",
       "      <td>31.1</td>\n",
       "    </tr>\n",
       "    <tr>\n",
       "      <th>Poverty</th>\n",
       "      <td>10.3</td>\n",
       "      <td>11.6</td>\n",
       "      <td>11.1</td>\n",
       "      <td>13.8</td>\n",
       "      <td>17.2</td>\n",
       "    </tr>\n",
       "    <tr>\n",
       "      <th>Food Insecurity</th>\n",
       "      <td>9.6</td>\n",
       "      <td>9.8</td>\n",
       "      <td>8.6</td>\n",
       "      <td>13</td>\n",
       "      <td>13.7</td>\n",
       "    </tr>\n",
       "    <tr>\n",
       "      <th>Adverse Childhood Experiences</th>\n",
       "      <td>13.2</td>\n",
       "      <td>16.3</td>\n",
       "      <td>17.9</td>\n",
       "      <td>18.2</td>\n",
       "      <td>20</td>\n",
       "    </tr>\n",
       "    <tr>\n",
       "      <th>Insufficient Sleep</th>\n",
       "      <td>45.6</td>\n",
       "      <td>32.9</td>\n",
       "      <td>33.2</td>\n",
       "      <td>35.2</td>\n",
       "      <td>41.3</td>\n",
       "    </tr>\n",
       "  </tbody>\n",
       "</table>\n",
       "</div>"
      ],
      "text/plain": [
       "                                 HI    IA    ND    MI    WV\n",
       "Depression State Ranking          1    13    25    36    48\n",
       "Depression                     13.9  19.2  22.3  24.1  31.1\n",
       "Poverty                        10.3  11.6  11.1  13.8  17.2\n",
       "Food Insecurity                 9.6   9.8   8.6    13  13.7\n",
       "Adverse Childhood Experiences  13.2  16.3  17.9  18.2    20\n",
       "Insufficient Sleep             45.6  32.9  33.2  35.2  41.3"
      ]
     },
     "execution_count": 32,
     "metadata": {},
     "output_type": "execute_result"
    }
   ],
   "source": [
    "df = pd.DataFrame(myDict)\n",
    "\n",
    "# rearranges columns and rows\n",
    "df = df[[\"HI\", \"IA\", \"ND\", \"MI\", \"WV\"]]\n",
    "df = df.loc[[\"Depression State Ranking\", \"Depression\", \"Poverty\", \"Food Insecurity\", \"Adverse Childhood Experiences\", \"Insufficient Sleep\"]]\n",
    "\n",
    "df"
   ]
  },
  {
   "cell_type": "code",
   "execution_count": null,
   "id": "c272ad45-8c63-43c2-802e-f65ef39dcf1e",
   "metadata": {},
   "outputs": [],
   "source": []
  }
 ],
 "metadata": {
  "kernelspec": {
   "display_name": "Python [conda env:base] *",
   "language": "python",
   "name": "conda-base-py"
  },
  "language_info": {
   "codemirror_mode": {
    "name": "ipython",
    "version": 3
   },
   "file_extension": ".py",
   "mimetype": "text/x-python",
   "name": "python",
   "nbconvert_exporter": "python",
   "pygments_lexer": "ipython3",
   "version": "3.12.7"
  }
 },
 "nbformat": 4,
 "nbformat_minor": 5
}
