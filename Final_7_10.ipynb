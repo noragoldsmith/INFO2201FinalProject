{
 "cells": [
  {
   "cell_type": "code",
   "execution_count": 2,
   "id": "5be58dd0-3c7b-4d22-bc50-2ba49176896a",
   "metadata": {},
   "outputs": [],
   "source": [
    "import csv"
   ]
  },
  {
   "cell_type": "code",
   "execution_count": 3,
   "id": "63c3a70c-88aa-4a5f-870c-af57c0d9da15",
   "metadata": {},
   "outputs": [],
   "source": [
    "import pandas as pd"
   ]
  },
  {
   "cell_type": "code",
   "execution_count": 10,
   "id": "bcaea860-0017-46ee-addf-b534decede7b",
   "metadata": {},
   "outputs": [],
   "source": [
    "import numpy as np"
   ]
  },
  {
   "cell_type": "code",
   "execution_count": 18,
   "id": "bf1929dd-d060-4f71-a801-35be52a443c2",
   "metadata": {},
   "outputs": [],
   "source": [
    "import seaborn as sns"
   ]
  },
  {
   "cell_type": "code",
   "execution_count": 12,
   "id": "858c1159-4a2b-40b7-aa06-1381f9f61db3",
   "metadata": {},
   "outputs": [],
   "source": [
    "myDict = {}\n",
    "\n",
    "with open(\"2024-annual-report-report-data-all-states.csv\", \"r\", encoding = \"utf-8\", errors = \"replace\") as file:\n",
    "\n",
    "    csvReader = csv.reader(file, delimiter = \",\")\n",
    "    next(csvReader)\n",
    "\n",
    "    for row in csvReader:\n",
    "        factor = row[1]\n",
    "        state = row[2]\n",
    "        value = row[3]\n",
    "        rank = row[5]\n",
    "\n",
    "        if state == \"HI\" or state == \"IA\" or state == \"ND\" or state == \"MI\" or state == \"WV\":\n",
    "            if state not in myDict:\n",
    "                myDict[state] = {}\n",
    "                \n",
    "            if factor == \"Depression\":\n",
    "                myDict[state][\"Depression\"] = value\n",
    "                myDict[state][\"Depression State Ranking\"] = rank\n",
    "                \n",
    "            if factor == \"Insufficient Sleep\":\n",
    "                myDict[state][\"Insufficient Sleep\"] = value\n",
    "\n",
    "            if factor == \"Adverse Childhood Experiences\":\n",
    "                myDict[state][\"Adverse Childhood Experiences\"] = value\n",
    "\n",
    "            if factor == \"Poverty\":\n",
    "                myDict[state][\"Poverty\"] = value\n",
    "\n",
    "            if factor == \"Food Insecurity\":\n",
    "                myDict[state][\"Food Insecurity\"] = value\n",
    "\n",
    "                \n",
    " "
   ]
  },
  {
   "cell_type": "code",
   "execution_count": 13,
   "id": "038a4333-5c58-4cc7-b792-f38aae848f30",
   "metadata": {},
   "outputs": [],
   "source": [
    "df = pd.DataFrame(myDict)\n",
    "\n",
    "# rearranges columns and rows\n",
    "df = df[[\"HI\", \"IA\", \"ND\", \"MI\", \"WV\"]]\n",
    "df = df.loc[[\"Depression State Ranking\", \"Depression\", \"Poverty\", \"Food Insecurity\", \"Adverse Childhood Experiences\", \"Insufficient Sleep\"]]\n",
    "\n",
    "df.to_csv(\"5states_depression_value&score_&OUTSIDE_VARS.csv\")"
   ]
  },
  {
   "cell_type": "code",
   "execution_count": 25,
   "id": "3f34325e-c8e3-4601-9181-9d85866be664",
   "metadata": {},
   "outputs": [
    {
     "data": {
      "text/html": [
       "<div>\n",
       "<style scoped>\n",
       "    .dataframe tbody tr th:only-of-type {\n",
       "        vertical-align: middle;\n",
       "    }\n",
       "\n",
       "    .dataframe tbody tr th {\n",
       "        vertical-align: top;\n",
       "    }\n",
       "\n",
       "    .dataframe thead th {\n",
       "        text-align: right;\n",
       "    }\n",
       "</style>\n",
       "<table border=\"1\" class=\"dataframe\">\n",
       "  <thead>\n",
       "    <tr style=\"text-align: right;\">\n",
       "      <th></th>\n",
       "      <th>HI</th>\n",
       "      <th>IA</th>\n",
       "      <th>ND</th>\n",
       "      <th>MI</th>\n",
       "      <th>WV</th>\n",
       "    </tr>\n",
       "  </thead>\n",
       "  <tbody>\n",
       "    <tr>\n",
       "      <th>Depression State Ranking</th>\n",
       "      <td>1</td>\n",
       "      <td>13</td>\n",
       "      <td>25</td>\n",
       "      <td>36</td>\n",
       "      <td>48</td>\n",
       "    </tr>\n",
       "    <tr>\n",
       "      <th>Depression</th>\n",
       "      <td>13.9</td>\n",
       "      <td>19.2</td>\n",
       "      <td>22.3</td>\n",
       "      <td>24.1</td>\n",
       "      <td>31.1</td>\n",
       "    </tr>\n",
       "    <tr>\n",
       "      <th>Poverty</th>\n",
       "      <td>10.3</td>\n",
       "      <td>11.6</td>\n",
       "      <td>11.1</td>\n",
       "      <td>13.8</td>\n",
       "      <td>17.2</td>\n",
       "    </tr>\n",
       "    <tr>\n",
       "      <th>Food Insecurity</th>\n",
       "      <td>9.6</td>\n",
       "      <td>9.8</td>\n",
       "      <td>8.6</td>\n",
       "      <td>13</td>\n",
       "      <td>13.7</td>\n",
       "    </tr>\n",
       "    <tr>\n",
       "      <th>Adverse Childhood Experiences</th>\n",
       "      <td>13.2</td>\n",
       "      <td>16.3</td>\n",
       "      <td>17.9</td>\n",
       "      <td>18.2</td>\n",
       "      <td>20</td>\n",
       "    </tr>\n",
       "    <tr>\n",
       "      <th>Insufficient Sleep</th>\n",
       "      <td>45.6</td>\n",
       "      <td>32.9</td>\n",
       "      <td>33.2</td>\n",
       "      <td>35.2</td>\n",
       "      <td>41.3</td>\n",
       "    </tr>\n",
       "  </tbody>\n",
       "</table>\n",
       "</div>"
      ],
      "text/plain": [
       "                                 HI    IA    ND    MI    WV\n",
       "Depression State Ranking          1    13    25    36    48\n",
       "Depression                     13.9  19.2  22.3  24.1  31.1\n",
       "Poverty                        10.3  11.6  11.1  13.8  17.2\n",
       "Food Insecurity                 9.6   9.8   8.6    13  13.7\n",
       "Adverse Childhood Experiences  13.2  16.3  17.9  18.2    20\n",
       "Insufficient Sleep             45.6  32.9  33.2  35.2  41.3"
      ]
     },
     "execution_count": 25,
     "metadata": {},
     "output_type": "execute_result"
    }
   ],
   "source": [
    "df"
   ]
  },
  {
   "cell_type": "code",
   "execution_count": 40,
   "id": "dde85d7d-b228-48c0-9984-8fb2782bc2c4",
   "metadata": {},
   "outputs": [
    {
     "data": {
      "text/html": [
       "<div>\n",
       "<style scoped>\n",
       "    .dataframe tbody tr th:only-of-type {\n",
       "        vertical-align: middle;\n",
       "    }\n",
       "\n",
       "    .dataframe tbody tr th {\n",
       "        vertical-align: top;\n",
       "    }\n",
       "\n",
       "    .dataframe thead th {\n",
       "        text-align: right;\n",
       "    }\n",
       "</style>\n",
       "<table border=\"1\" class=\"dataframe\">\n",
       "  <thead>\n",
       "    <tr style=\"text-align: right;\">\n",
       "      <th></th>\n",
       "      <th>HI</th>\n",
       "      <th>IA</th>\n",
       "      <th>ND</th>\n",
       "      <th>MI</th>\n",
       "      <th>WV</th>\n",
       "    </tr>\n",
       "  </thead>\n",
       "  <tbody>\n",
       "    <tr>\n",
       "      <th>Depression State Ranking</th>\n",
       "      <td>1.0</td>\n",
       "      <td>13.0</td>\n",
       "      <td>25.0</td>\n",
       "      <td>36.0</td>\n",
       "      <td>48.0</td>\n",
       "    </tr>\n",
       "    <tr>\n",
       "      <th>Depression</th>\n",
       "      <td>13.9</td>\n",
       "      <td>19.2</td>\n",
       "      <td>22.3</td>\n",
       "      <td>24.1</td>\n",
       "      <td>31.1</td>\n",
       "    </tr>\n",
       "    <tr>\n",
       "      <th>Poverty</th>\n",
       "      <td>10.3</td>\n",
       "      <td>11.6</td>\n",
       "      <td>11.1</td>\n",
       "      <td>13.8</td>\n",
       "      <td>17.2</td>\n",
       "    </tr>\n",
       "    <tr>\n",
       "      <th>Food Insecurity</th>\n",
       "      <td>9.6</td>\n",
       "      <td>9.8</td>\n",
       "      <td>8.6</td>\n",
       "      <td>13.0</td>\n",
       "      <td>13.7</td>\n",
       "    </tr>\n",
       "    <tr>\n",
       "      <th>Adverse Childhood Experiences</th>\n",
       "      <td>13.2</td>\n",
       "      <td>16.3</td>\n",
       "      <td>17.9</td>\n",
       "      <td>18.2</td>\n",
       "      <td>20.0</td>\n",
       "    </tr>\n",
       "    <tr>\n",
       "      <th>Insufficient Sleep</th>\n",
       "      <td>45.6</td>\n",
       "      <td>32.9</td>\n",
       "      <td>33.2</td>\n",
       "      <td>35.2</td>\n",
       "      <td>41.3</td>\n",
       "    </tr>\n",
       "  </tbody>\n",
       "</table>\n",
       "</div>"
      ],
      "text/plain": [
       "                                 HI    IA    ND    MI    WV\n",
       "Depression State Ranking        1.0  13.0  25.0  36.0  48.0\n",
       "Depression                     13.9  19.2  22.3  24.1  31.1\n",
       "Poverty                        10.3  11.6  11.1  13.8  17.2\n",
       "Food Insecurity                 9.6   9.8   8.6  13.0  13.7\n",
       "Adverse Childhood Experiences  13.2  16.3  17.9  18.2  20.0\n",
       "Insufficient Sleep             45.6  32.9  33.2  35.2  41.3"
      ]
     },
     "execution_count": 40,
     "metadata": {},
     "output_type": "execute_result"
    }
   ],
   "source": [
    "# change dtypes to float\n",
    "df_float = df.astype(float)\n",
    "df_float"
   ]
  },
  {
   "cell_type": "code",
   "execution_count": 42,
   "id": "c971b4af-e311-49ee-8dd2-aca3e1d091c6",
   "metadata": {},
   "outputs": [
    {
     "data": {
      "text/plain": [
       "HI    float64\n",
       "IA    float64\n",
       "ND    float64\n",
       "MI    float64\n",
       "WV    float64\n",
       "dtype: object"
      ]
     },
     "execution_count": 42,
     "metadata": {},
     "output_type": "execute_result"
    }
   ],
   "source": []
  },
  {
   "cell_type": "code",
   "execution_count": 46,
   "id": "40768e05-d7c7-47f1-8066-8a358aeab47c",
   "metadata": {},
   "outputs": [
    {
     "data": {
      "text/plain": [
       "<Axes: >"
      ]
     },
     "execution_count": 46,
     "metadata": {},
     "output_type": "execute_result"
    },
    {
     "data": {
      "image/png": "[encoded data removed]",
      "text/plain": [
       "<Figure size 640x480 with 1 Axes>"
      ]
     },
     "metadata": {},
     "output_type": "display_data"
    }
   ],
   "source": [
    "df_float.plot(kind='bar')"
   ]
  },
  {
   "cell_type": "code",
   "execution_count": 36,
   "id": "e50711bd-1a41-445d-8664-316ce6f3decc",
   "metadata": {},
   "outputs": [
    {
     "ename": "TypeError",
     "evalue": "no numeric data to plot",
     "output_type": "error",
     "traceback": [
      "\u001b[0;31m---------------------------------------------------------------------------\u001b[0m",
      "\u001b[0;31mTypeError\u001b[0m                                 Traceback (most recent call last)",
      "Cell \u001b[0;32mIn[36], line 3\u001b[0m\n\u001b[1;32m      1\u001b[0m selected_row \u001b[38;5;241m=\u001b[39m df\u001b[38;5;241m.\u001b[39mloc[\u001b[38;5;124m\"\u001b[39m\u001b[38;5;124mDepression\u001b[39m\u001b[38;5;124m\"\u001b[39m]\n\u001b[0;32m----> 3\u001b[0m selected_row\u001b[38;5;241m.\u001b[39mplot\u001b[38;5;241m.\u001b[39mbar(title\u001b[38;5;241m=\u001b[39m\u001b[38;5;124m'\u001b[39m\u001b[38;5;124mBar Graph for Row2\u001b[39m\u001b[38;5;124m'\u001b[39m)\n",
      "File \u001b[0;32m~/Desktop/anaconda3/lib/python3.12/site-packages/pandas/plotting/_core.py:1192\u001b[0m, in \u001b[0;36mPlotAccessor.bar\u001b[0;34m(self, x, y, **kwargs)\u001b[0m\n\u001b[1;32m   1102\u001b[0m \u001b[38;5;129m@Appender\u001b[39m(\n\u001b[1;32m   1103\u001b[0m \u001b[38;5;250m    \u001b[39m\u001b[38;5;124;03m\"\"\"\u001b[39;00m\n\u001b[1;32m   1104\u001b[0m \u001b[38;5;124;03m    See Also\u001b[39;00m\n\u001b[0;32m   (...)\u001b[0m\n\u001b[1;32m   1181\u001b[0m     \u001b[38;5;28mself\u001b[39m, x: Hashable \u001b[38;5;241m|\u001b[39m \u001b[38;5;28;01mNone\u001b[39;00m \u001b[38;5;241m=\u001b[39m \u001b[38;5;28;01mNone\u001b[39;00m, y: Hashable \u001b[38;5;241m|\u001b[39m \u001b[38;5;28;01mNone\u001b[39;00m \u001b[38;5;241m=\u001b[39m \u001b[38;5;28;01mNone\u001b[39;00m, \u001b[38;5;241m*\u001b[39m\u001b[38;5;241m*\u001b[39mkwargs\n\u001b[1;32m   1182\u001b[0m ) \u001b[38;5;241m-\u001b[39m\u001b[38;5;241m>\u001b[39m PlotAccessor:\n\u001b[1;32m   1183\u001b[0m \u001b[38;5;250m    \u001b[39m\u001b[38;5;124;03m\"\"\"\u001b[39;00m\n\u001b[1;32m   1184\u001b[0m \u001b[38;5;124;03m    Vertical bar plot.\u001b[39;00m\n\u001b[1;32m   1185\u001b[0m \n\u001b[0;32m   (...)\u001b[0m\n\u001b[1;32m   1190\u001b[0m \u001b[38;5;124;03m    other axis represents a measured value.\u001b[39;00m\n\u001b[1;32m   1191\u001b[0m \u001b[38;5;124;03m    \"\"\"\u001b[39;00m\n\u001b[0;32m-> 1192\u001b[0m     \u001b[38;5;28;01mreturn\u001b[39;00m \u001b[38;5;28mself\u001b[39m(kind\u001b[38;5;241m=\u001b[39m\u001b[38;5;124m\"\u001b[39m\u001b[38;5;124mbar\u001b[39m\u001b[38;5;124m\"\u001b[39m, x\u001b[38;5;241m=\u001b[39mx, y\u001b[38;5;241m=\u001b[39my, \u001b[38;5;241m*\u001b[39m\u001b[38;5;241m*\u001b[39mkwargs)\n",
      "File \u001b[0;32m~/Desktop/anaconda3/lib/python3.12/site-packages/pandas/plotting/_core.py:1030\u001b[0m, in \u001b[0;36mPlotAccessor.__call__\u001b[0;34m(self, *args, **kwargs)\u001b[0m\n\u001b[1;32m   1027\u001b[0m             label_name \u001b[38;5;241m=\u001b[39m label_kw \u001b[38;5;129;01mor\u001b[39;00m data\u001b[38;5;241m.\u001b[39mcolumns\n\u001b[1;32m   1028\u001b[0m             data\u001b[38;5;241m.\u001b[39mcolumns \u001b[38;5;241m=\u001b[39m label_name\n\u001b[0;32m-> 1030\u001b[0m \u001b[38;5;28;01mreturn\u001b[39;00m plot_backend\u001b[38;5;241m.\u001b[39mplot(data, kind\u001b[38;5;241m=\u001b[39mkind, \u001b[38;5;241m*\u001b[39m\u001b[38;5;241m*\u001b[39mkwargs)\n",
      "File \u001b[0;32m~/Desktop/anaconda3/lib/python3.12/site-packages/pandas/plotting/_matplotlib/__init__.py:71\u001b[0m, in \u001b[0;36mplot\u001b[0;34m(data, kind, **kwargs)\u001b[0m\n\u001b[1;32m     69\u001b[0m         kwargs[\u001b[38;5;124m\"\u001b[39m\u001b[38;5;124max\u001b[39m\u001b[38;5;124m\"\u001b[39m] \u001b[38;5;241m=\u001b[39m \u001b[38;5;28mgetattr\u001b[39m(ax, \u001b[38;5;124m\"\u001b[39m\u001b[38;5;124mleft_ax\u001b[39m\u001b[38;5;124m\"\u001b[39m, ax)\n\u001b[1;32m     70\u001b[0m plot_obj \u001b[38;5;241m=\u001b[39m PLOT_CLASSES[kind](data, \u001b[38;5;241m*\u001b[39m\u001b[38;5;241m*\u001b[39mkwargs)\n\u001b[0;32m---> 71\u001b[0m plot_obj\u001b[38;5;241m.\u001b[39mgenerate()\n\u001b[1;32m     72\u001b[0m plot_obj\u001b[38;5;241m.\u001b[39mdraw()\n\u001b[1;32m     73\u001b[0m \u001b[38;5;28;01mreturn\u001b[39;00m plot_obj\u001b[38;5;241m.\u001b[39mresult\n",
      "File \u001b[0;32m~/Desktop/anaconda3/lib/python3.12/site-packages/pandas/plotting/_matplotlib/core.py:499\u001b[0m, in \u001b[0;36mMPLPlot.generate\u001b[0;34m(self)\u001b[0m\n\u001b[1;32m    497\u001b[0m \u001b[38;5;129m@final\u001b[39m\n\u001b[1;32m    498\u001b[0m \u001b[38;5;28;01mdef\u001b[39;00m \u001b[38;5;21mgenerate\u001b[39m(\u001b[38;5;28mself\u001b[39m) \u001b[38;5;241m-\u001b[39m\u001b[38;5;241m>\u001b[39m \u001b[38;5;28;01mNone\u001b[39;00m:\n\u001b[0;32m--> 499\u001b[0m     \u001b[38;5;28mself\u001b[39m\u001b[38;5;241m.\u001b[39m_compute_plot_data()\n\u001b[1;32m    500\u001b[0m     fig \u001b[38;5;241m=\u001b[39m \u001b[38;5;28mself\u001b[39m\u001b[38;5;241m.\u001b[39mfig\n\u001b[1;32m    501\u001b[0m     \u001b[38;5;28mself\u001b[39m\u001b[38;5;241m.\u001b[39m_make_plot(fig)\n",
      "File \u001b[0;32m~/Desktop/anaconda3/lib/python3.12/site-packages/pandas/plotting/_matplotlib/core.py:698\u001b[0m, in \u001b[0;36mMPLPlot._compute_plot_data\u001b[0;34m(self)\u001b[0m\n\u001b[1;32m    696\u001b[0m \u001b[38;5;66;03m# no non-numeric frames or series allowed\u001b[39;00m\n\u001b[1;32m    697\u001b[0m \u001b[38;5;28;01mif\u001b[39;00m is_empty:\n\u001b[0;32m--> 698\u001b[0m     \u001b[38;5;28;01mraise\u001b[39;00m \u001b[38;5;167;01mTypeError\u001b[39;00m(\u001b[38;5;124m\"\u001b[39m\u001b[38;5;124mno numeric data to plot\u001b[39m\u001b[38;5;124m\"\u001b[39m)\n\u001b[1;32m    700\u001b[0m \u001b[38;5;28mself\u001b[39m\u001b[38;5;241m.\u001b[39mdata \u001b[38;5;241m=\u001b[39m numeric_data\u001b[38;5;241m.\u001b[39mapply(\u001b[38;5;28mtype\u001b[39m(\u001b[38;5;28mself\u001b[39m)\u001b[38;5;241m.\u001b[39m_convert_to_ndarray)\n",
      "\u001b[0;31mTypeError\u001b[0m: no numeric data to plot"
     ]
    }
   ],
   "source": [
    "\n",
    "#selected_row = df.loc[\"Depression\"]\n",
    "\n",
    "#selected_row.plot.bar(title='Bar Graph for Row2')"
   ]
  },
  {
   "cell_type": "code",
   "execution_count": 52,
   "id": "7eeaa63a-3f2d-4329-99b8-759332ed85d2",
   "metadata": {},
   "outputs": [
    {
     "ename": "KeyError",
     "evalue": "'Depression'",
     "output_type": "error",
     "traceback": [
      "\u001b[0;31m---------------------------------------------------------------------------\u001b[0m",
      "\u001b[0;31mKeyError\u001b[0m                                  Traceback (most recent call last)",
      "File \u001b[0;32m~/Desktop/anaconda3/lib/python3.12/site-packages/pandas/core/indexes/base.py:3805\u001b[0m, in \u001b[0;36mIndex.get_loc\u001b[0;34m(self, key)\u001b[0m\n\u001b[1;32m   3804\u001b[0m \u001b[38;5;28;01mtry\u001b[39;00m:\n\u001b[0;32m-> 3805\u001b[0m     \u001b[38;5;28;01mreturn\u001b[39;00m \u001b[38;5;28mself\u001b[39m\u001b[38;5;241m.\u001b[39m_engine\u001b[38;5;241m.\u001b[39mget_loc(casted_key)\n\u001b[1;32m   3806\u001b[0m \u001b[38;5;28;01mexcept\u001b[39;00m \u001b[38;5;167;01mKeyError\u001b[39;00m \u001b[38;5;28;01mas\u001b[39;00m err:\n",
      "File \u001b[0;32mindex.pyx:167\u001b[0m, in \u001b[0;36mpandas._libs.index.IndexEngine.get_loc\u001b[0;34m()\u001b[0m\n",
      "File \u001b[0;32mindex.pyx:196\u001b[0m, in \u001b[0;36mpandas._libs.index.IndexEngine.get_loc\u001b[0;34m()\u001b[0m\n",
      "File \u001b[0;32mpandas/_libs/hashtable_class_helper.pxi:7081\u001b[0m, in \u001b[0;36mpandas._libs.hashtable.PyObjectHashTable.get_item\u001b[0;34m()\u001b[0m\n",
      "File \u001b[0;32mpandas/_libs/hashtable_class_helper.pxi:7089\u001b[0m, in \u001b[0;36mpandas._libs.hashtable.PyObjectHashTable.get_item\u001b[0;34m()\u001b[0m\n",
      "\u001b[0;31mKeyError\u001b[0m: 'Depression'",
      "\nThe above exception was the direct cause of the following exception:\n",
      "\u001b[0;31mKeyError\u001b[0m                                  Traceback (most recent call last)",
      "Cell \u001b[0;32mIn[52], line 1\u001b[0m\n\u001b[0;32m----> 1\u001b[0m df_float_bargraph \u001b[38;5;241m=\u001b[39m df_float[df_float[\u001b[38;5;124m\"\u001b[39m\u001b[38;5;124mDepression\u001b[39m\u001b[38;5;124m\"\u001b[39m]]\n",
      "File \u001b[0;32m~/Desktop/anaconda3/lib/python3.12/site-packages/pandas/core/frame.py:4102\u001b[0m, in \u001b[0;36mDataFrame.__getitem__\u001b[0;34m(self, key)\u001b[0m\n\u001b[1;32m   4100\u001b[0m \u001b[38;5;28;01mif\u001b[39;00m \u001b[38;5;28mself\u001b[39m\u001b[38;5;241m.\u001b[39mcolumns\u001b[38;5;241m.\u001b[39mnlevels \u001b[38;5;241m>\u001b[39m \u001b[38;5;241m1\u001b[39m:\n\u001b[1;32m   4101\u001b[0m     \u001b[38;5;28;01mreturn\u001b[39;00m \u001b[38;5;28mself\u001b[39m\u001b[38;5;241m.\u001b[39m_getitem_multilevel(key)\n\u001b[0;32m-> 4102\u001b[0m indexer \u001b[38;5;241m=\u001b[39m \u001b[38;5;28mself\u001b[39m\u001b[38;5;241m.\u001b[39mcolumns\u001b[38;5;241m.\u001b[39mget_loc(key)\n\u001b[1;32m   4103\u001b[0m \u001b[38;5;28;01mif\u001b[39;00m is_integer(indexer):\n\u001b[1;32m   4104\u001b[0m     indexer \u001b[38;5;241m=\u001b[39m [indexer]\n",
      "File \u001b[0;32m~/Desktop/anaconda3/lib/python3.12/site-packages/pandas/core/indexes/base.py:3812\u001b[0m, in \u001b[0;36mIndex.get_loc\u001b[0;34m(self, key)\u001b[0m\n\u001b[1;32m   3807\u001b[0m     \u001b[38;5;28;01mif\u001b[39;00m \u001b[38;5;28misinstance\u001b[39m(casted_key, \u001b[38;5;28mslice\u001b[39m) \u001b[38;5;129;01mor\u001b[39;00m (\n\u001b[1;32m   3808\u001b[0m         \u001b[38;5;28misinstance\u001b[39m(casted_key, abc\u001b[38;5;241m.\u001b[39mIterable)\n\u001b[1;32m   3809\u001b[0m         \u001b[38;5;129;01mand\u001b[39;00m \u001b[38;5;28many\u001b[39m(\u001b[38;5;28misinstance\u001b[39m(x, \u001b[38;5;28mslice\u001b[39m) \u001b[38;5;28;01mfor\u001b[39;00m x \u001b[38;5;129;01min\u001b[39;00m casted_key)\n\u001b[1;32m   3810\u001b[0m     ):\n\u001b[1;32m   3811\u001b[0m         \u001b[38;5;28;01mraise\u001b[39;00m InvalidIndexError(key)\n\u001b[0;32m-> 3812\u001b[0m     \u001b[38;5;28;01mraise\u001b[39;00m \u001b[38;5;167;01mKeyError\u001b[39;00m(key) \u001b[38;5;28;01mfrom\u001b[39;00m \u001b[38;5;21;01merr\u001b[39;00m\n\u001b[1;32m   3813\u001b[0m \u001b[38;5;28;01mexcept\u001b[39;00m \u001b[38;5;167;01mTypeError\u001b[39;00m:\n\u001b[1;32m   3814\u001b[0m     \u001b[38;5;66;03m# If we have a listlike key, _check_indexing_error will raise\u001b[39;00m\n\u001b[1;32m   3815\u001b[0m     \u001b[38;5;66;03m#  InvalidIndexError. Otherwise we fall through and re-raise\u001b[39;00m\n\u001b[1;32m   3816\u001b[0m     \u001b[38;5;66;03m#  the TypeError.\u001b[39;00m\n\u001b[1;32m   3817\u001b[0m     \u001b[38;5;28mself\u001b[39m\u001b[38;5;241m.\u001b[39m_check_indexing_error(key)\n",
      "\u001b[0;31mKeyError\u001b[0m: 'Depression'"
     ]
    }
   ],
   "source": [
    "df_float_bargraph = df_float[df_float[\"Depression\"]]"
   ]
  },
  {
   "cell_type": "code",
   "execution_count": 50,
   "id": "0723132f-11ff-451d-af12-750fa6ced273",
   "metadata": {},
   "outputs": [
    {
     "ename": "ValueError",
     "evalue": "Length of Index vectors must match length of `data` when both are used, but `data` has length 6 and the vector passed to `x` has length 5.",
     "output_type": "error",
     "traceback": [
      "\u001b[0;31m---------------------------------------------------------------------------\u001b[0m",
      "\u001b[0;31mValueError\u001b[0m                                Traceback (most recent call last)",
      "Cell \u001b[0;32mIn[50], line 10\u001b[0m\n\u001b[1;32m      1\u001b[0m \u001b[38;5;66;03m# general bar graph comparing states and their values (in ranked order)\u001b[39;00m\n\u001b[1;32m      2\u001b[0m \u001b[38;5;66;03m# x axis - state\u001b[39;00m\n\u001b[1;32m      3\u001b[0m \u001b[38;5;66;03m# y axis - values \u001b[39;00m\n\u001b[1;32m      4\u001b[0m \u001b[38;5;66;03m#df['state'].plot(kind = \"plot\")\u001b[39;00m\n\u001b[1;32m      5\u001b[0m \n\u001b[1;32m      6\u001b[0m \u001b[38;5;66;03m# states r names of the columns\u001b[39;00m\n\u001b[1;32m      7\u001b[0m depression_values \u001b[38;5;241m=\u001b[39m df_float\u001b[38;5;241m.\u001b[39mloc[\u001b[38;5;124m\"\u001b[39m\u001b[38;5;124mDepression\u001b[39m\u001b[38;5;124m\"\u001b[39m] \u001b[38;5;66;03m# get only the row w/ the values for depression\u001b[39;00m\n\u001b[0;32m---> 10\u001b[0m sns\u001b[38;5;241m.\u001b[39mbarplot(\n\u001b[1;32m     11\u001b[0m     x \u001b[38;5;241m=\u001b[39m depression_values\u001b[38;5;241m.\u001b[39mindex,\n\u001b[1;32m     12\u001b[0m     y \u001b[38;5;241m=\u001b[39m depression_values\u001b[38;5;241m.\u001b[39mvalues,\n\u001b[1;32m     13\u001b[0m     data \u001b[38;5;241m=\u001b[39m df_float\n\u001b[1;32m     14\u001b[0m )\n",
      "File \u001b[0;32m~/Desktop/anaconda3/lib/python3.12/site-packages/seaborn/categorical.py:2341\u001b[0m, in \u001b[0;36mbarplot\u001b[0;34m(data, x, y, hue, order, hue_order, estimator, errorbar, n_boot, seed, units, weights, orient, color, palette, saturation, fill, hue_norm, width, dodge, gap, log_scale, native_scale, formatter, legend, capsize, err_kws, ci, errcolor, errwidth, ax, **kwargs)\u001b[0m\n\u001b[1;32m   2338\u001b[0m \u001b[38;5;28;01mif\u001b[39;00m estimator \u001b[38;5;129;01mis\u001b[39;00m \u001b[38;5;28mlen\u001b[39m:\n\u001b[1;32m   2339\u001b[0m     estimator \u001b[38;5;241m=\u001b[39m \u001b[38;5;124m\"\u001b[39m\u001b[38;5;124msize\u001b[39m\u001b[38;5;124m\"\u001b[39m\n\u001b[0;32m-> 2341\u001b[0m p \u001b[38;5;241m=\u001b[39m _CategoricalAggPlotter(\n\u001b[1;32m   2342\u001b[0m     data\u001b[38;5;241m=\u001b[39mdata,\n\u001b[1;32m   2343\u001b[0m     variables\u001b[38;5;241m=\u001b[39m\u001b[38;5;28mdict\u001b[39m(x\u001b[38;5;241m=\u001b[39mx, y\u001b[38;5;241m=\u001b[39my, hue\u001b[38;5;241m=\u001b[39mhue, units\u001b[38;5;241m=\u001b[39munits, weight\u001b[38;5;241m=\u001b[39mweights),\n\u001b[1;32m   2344\u001b[0m     order\u001b[38;5;241m=\u001b[39morder,\n\u001b[1;32m   2345\u001b[0m     orient\u001b[38;5;241m=\u001b[39morient,\n\u001b[1;32m   2346\u001b[0m     color\u001b[38;5;241m=\u001b[39mcolor,\n\u001b[1;32m   2347\u001b[0m     legend\u001b[38;5;241m=\u001b[39mlegend,\n\u001b[1;32m   2348\u001b[0m )\n\u001b[1;32m   2350\u001b[0m \u001b[38;5;28;01mif\u001b[39;00m ax \u001b[38;5;129;01mis\u001b[39;00m \u001b[38;5;28;01mNone\u001b[39;00m:\n\u001b[1;32m   2351\u001b[0m     ax \u001b[38;5;241m=\u001b[39m plt\u001b[38;5;241m.\u001b[39mgca()\n",
      "File \u001b[0;32m~/Desktop/anaconda3/lib/python3.12/site-packages/seaborn/categorical.py:67\u001b[0m, in \u001b[0;36m_CategoricalPlotter.__init__\u001b[0;34m(self, data, variables, order, orient, require_numeric, color, legend)\u001b[0m\n\u001b[1;32m     56\u001b[0m \u001b[38;5;28;01mdef\u001b[39;00m \u001b[38;5;21m__init__\u001b[39m(\n\u001b[1;32m     57\u001b[0m     \u001b[38;5;28mself\u001b[39m,\n\u001b[1;32m     58\u001b[0m     data\u001b[38;5;241m=\u001b[39m\u001b[38;5;28;01mNone\u001b[39;00m,\n\u001b[0;32m   (...)\u001b[0m\n\u001b[1;32m     64\u001b[0m     legend\u001b[38;5;241m=\u001b[39m\u001b[38;5;124m\"\u001b[39m\u001b[38;5;124mauto\u001b[39m\u001b[38;5;124m\"\u001b[39m,\n\u001b[1;32m     65\u001b[0m ):\n\u001b[0;32m---> 67\u001b[0m     \u001b[38;5;28msuper\u001b[39m()\u001b[38;5;241m.\u001b[39m\u001b[38;5;21m__init__\u001b[39m(data\u001b[38;5;241m=\u001b[39mdata, variables\u001b[38;5;241m=\u001b[39mvariables)\n\u001b[1;32m     69\u001b[0m     \u001b[38;5;66;03m# This method takes care of some bookkeeping that is necessary because the\u001b[39;00m\n\u001b[1;32m     70\u001b[0m     \u001b[38;5;66;03m# original categorical plots (prior to the 2021 refactor) had some rules that\u001b[39;00m\n\u001b[1;32m     71\u001b[0m     \u001b[38;5;66;03m# don't fit exactly into VectorPlotter logic. It may be wise to have a second\u001b[39;00m\n\u001b[0;32m   (...)\u001b[0m\n\u001b[1;32m     76\u001b[0m     \u001b[38;5;66;03m# default VectorPlotter rules. If we do decide to make orient part of the\u001b[39;00m\n\u001b[1;32m     77\u001b[0m     \u001b[38;5;66;03m# _base variable assignment, we'll want to figure out how to express that.\u001b[39;00m\n\u001b[1;32m     78\u001b[0m     \u001b[38;5;28;01mif\u001b[39;00m \u001b[38;5;28mself\u001b[39m\u001b[38;5;241m.\u001b[39minput_format \u001b[38;5;241m==\u001b[39m \u001b[38;5;124m\"\u001b[39m\u001b[38;5;124mwide\u001b[39m\u001b[38;5;124m\"\u001b[39m \u001b[38;5;129;01mand\u001b[39;00m orient \u001b[38;5;129;01min\u001b[39;00m [\u001b[38;5;124m\"\u001b[39m\u001b[38;5;124mh\u001b[39m\u001b[38;5;124m\"\u001b[39m, \u001b[38;5;124m\"\u001b[39m\u001b[38;5;124my\u001b[39m\u001b[38;5;124m\"\u001b[39m]:\n",
      "File \u001b[0;32m~/Desktop/anaconda3/lib/python3.12/site-packages/seaborn/_base.py:634\u001b[0m, in \u001b[0;36mVectorPlotter.__init__\u001b[0;34m(self, data, variables)\u001b[0m\n\u001b[1;32m    629\u001b[0m \u001b[38;5;66;03m# var_ordered is relevant only for categorical axis variables, and may\u001b[39;00m\n\u001b[1;32m    630\u001b[0m \u001b[38;5;66;03m# be better handled by an internal axis information object that tracks\u001b[39;00m\n\u001b[1;32m    631\u001b[0m \u001b[38;5;66;03m# such information and is set up by the scale_* methods. The analogous\u001b[39;00m\n\u001b[1;32m    632\u001b[0m \u001b[38;5;66;03m# information for numeric axes would be information about log scales.\u001b[39;00m\n\u001b[1;32m    633\u001b[0m \u001b[38;5;28mself\u001b[39m\u001b[38;5;241m.\u001b[39m_var_ordered \u001b[38;5;241m=\u001b[39m {\u001b[38;5;124m\"\u001b[39m\u001b[38;5;124mx\u001b[39m\u001b[38;5;124m\"\u001b[39m: \u001b[38;5;28;01mFalse\u001b[39;00m, \u001b[38;5;124m\"\u001b[39m\u001b[38;5;124my\u001b[39m\u001b[38;5;124m\"\u001b[39m: \u001b[38;5;28;01mFalse\u001b[39;00m}  \u001b[38;5;66;03m# alt., used DefaultDict\u001b[39;00m\n\u001b[0;32m--> 634\u001b[0m \u001b[38;5;28mself\u001b[39m\u001b[38;5;241m.\u001b[39massign_variables(data, variables)\n\u001b[1;32m    636\u001b[0m \u001b[38;5;66;03m# TODO Lots of tests assume that these are called to initialize the\u001b[39;00m\n\u001b[1;32m    637\u001b[0m \u001b[38;5;66;03m# mappings to default values on class initialization. I'd prefer to\u001b[39;00m\n\u001b[1;32m    638\u001b[0m \u001b[38;5;66;03m# move away from that and only have a mapping when explicitly called.\u001b[39;00m\n\u001b[1;32m    639\u001b[0m \u001b[38;5;28;01mfor\u001b[39;00m var \u001b[38;5;129;01min\u001b[39;00m [\u001b[38;5;124m\"\u001b[39m\u001b[38;5;124mhue\u001b[39m\u001b[38;5;124m\"\u001b[39m, \u001b[38;5;124m\"\u001b[39m\u001b[38;5;124msize\u001b[39m\u001b[38;5;124m\"\u001b[39m, \u001b[38;5;124m\"\u001b[39m\u001b[38;5;124mstyle\u001b[39m\u001b[38;5;124m\"\u001b[39m]:\n",
      "File \u001b[0;32m~/Desktop/anaconda3/lib/python3.12/site-packages/seaborn/_base.py:679\u001b[0m, in \u001b[0;36mVectorPlotter.assign_variables\u001b[0;34m(self, data, variables)\u001b[0m\n\u001b[1;32m    674\u001b[0m \u001b[38;5;28;01melse\u001b[39;00m:\n\u001b[1;32m    675\u001b[0m     \u001b[38;5;66;03m# When dealing with long-form input, use the newer PlotData\u001b[39;00m\n\u001b[1;32m    676\u001b[0m     \u001b[38;5;66;03m# object (internal but introduced for the objects interface)\u001b[39;00m\n\u001b[1;32m    677\u001b[0m     \u001b[38;5;66;03m# to centralize / standardize data consumption logic.\u001b[39;00m\n\u001b[1;32m    678\u001b[0m     \u001b[38;5;28mself\u001b[39m\u001b[38;5;241m.\u001b[39minput_format \u001b[38;5;241m=\u001b[39m \u001b[38;5;124m\"\u001b[39m\u001b[38;5;124mlong\u001b[39m\u001b[38;5;124m\"\u001b[39m\n\u001b[0;32m--> 679\u001b[0m     plot_data \u001b[38;5;241m=\u001b[39m PlotData(data, variables)\n\u001b[1;32m    680\u001b[0m     frame \u001b[38;5;241m=\u001b[39m plot_data\u001b[38;5;241m.\u001b[39mframe\n\u001b[1;32m    681\u001b[0m     names \u001b[38;5;241m=\u001b[39m plot_data\u001b[38;5;241m.\u001b[39mnames\n",
      "File \u001b[0;32m~/Desktop/anaconda3/lib/python3.12/site-packages/seaborn/_core/data.py:58\u001b[0m, in \u001b[0;36mPlotData.__init__\u001b[0;34m(self, data, variables)\u001b[0m\n\u001b[1;32m     51\u001b[0m \u001b[38;5;28;01mdef\u001b[39;00m \u001b[38;5;21m__init__\u001b[39m(\n\u001b[1;32m     52\u001b[0m     \u001b[38;5;28mself\u001b[39m,\n\u001b[1;32m     53\u001b[0m     data: DataSource,\n\u001b[1;32m     54\u001b[0m     variables: \u001b[38;5;28mdict\u001b[39m[\u001b[38;5;28mstr\u001b[39m, VariableSpec],\n\u001b[1;32m     55\u001b[0m ):\n\u001b[1;32m     57\u001b[0m     data \u001b[38;5;241m=\u001b[39m handle_data_source(data)\n\u001b[0;32m---> 58\u001b[0m     frame, names, ids \u001b[38;5;241m=\u001b[39m \u001b[38;5;28mself\u001b[39m\u001b[38;5;241m.\u001b[39m_assign_variables(data, variables)\n\u001b[1;32m     60\u001b[0m     \u001b[38;5;28mself\u001b[39m\u001b[38;5;241m.\u001b[39mframe \u001b[38;5;241m=\u001b[39m frame\n\u001b[1;32m     61\u001b[0m     \u001b[38;5;28mself\u001b[39m\u001b[38;5;241m.\u001b[39mnames \u001b[38;5;241m=\u001b[39m names\n",
      "File \u001b[0;32m~/Desktop/anaconda3/lib/python3.12/site-packages/seaborn/_core/data.py:251\u001b[0m, in \u001b[0;36mPlotData._assign_variables\u001b[0;34m(self, data, variables)\u001b[0m\n\u001b[1;32m    245\u001b[0m         val_cls \u001b[38;5;241m=\u001b[39m val\u001b[38;5;241m.\u001b[39m\u001b[38;5;18m__class__\u001b[39m\u001b[38;5;241m.\u001b[39m\u001b[38;5;18m__name__\u001b[39m\n\u001b[1;32m    246\u001b[0m         err \u001b[38;5;241m=\u001b[39m (\n\u001b[1;32m    247\u001b[0m             \u001b[38;5;124mf\u001b[39m\u001b[38;5;124m\"\u001b[39m\u001b[38;5;124mLength of \u001b[39m\u001b[38;5;132;01m{\u001b[39;00mval_cls\u001b[38;5;132;01m}\u001b[39;00m\u001b[38;5;124m vectors must match length of `data`\u001b[39m\u001b[38;5;124m\"\u001b[39m\n\u001b[1;32m    248\u001b[0m             \u001b[38;5;124mf\u001b[39m\u001b[38;5;124m\"\u001b[39m\u001b[38;5;124m when both are used, but `data` has length \u001b[39m\u001b[38;5;132;01m{\u001b[39;00m\u001b[38;5;28mlen\u001b[39m(data)\u001b[38;5;132;01m}\u001b[39;00m\u001b[38;5;124m\"\u001b[39m\n\u001b[1;32m    249\u001b[0m             \u001b[38;5;124mf\u001b[39m\u001b[38;5;124m\"\u001b[39m\u001b[38;5;124m and the vector passed to `\u001b[39m\u001b[38;5;132;01m{\u001b[39;00mkey\u001b[38;5;132;01m}\u001b[39;00m\u001b[38;5;124m` has length \u001b[39m\u001b[38;5;132;01m{\u001b[39;00m\u001b[38;5;28mlen\u001b[39m(val)\u001b[38;5;132;01m}\u001b[39;00m\u001b[38;5;124m.\u001b[39m\u001b[38;5;124m\"\u001b[39m\n\u001b[1;32m    250\u001b[0m         )\n\u001b[0;32m--> 251\u001b[0m         \u001b[38;5;28;01mraise\u001b[39;00m \u001b[38;5;167;01mValueError\u001b[39;00m(err)\n\u001b[1;32m    253\u001b[0m plot_data[key] \u001b[38;5;241m=\u001b[39m val\n\u001b[1;32m    255\u001b[0m \u001b[38;5;66;03m# Try to infer the original name using pandas-like metadata\u001b[39;00m\n",
      "\u001b[0;31mValueError\u001b[0m: Length of Index vectors must match length of `data` when both are used, but `data` has length 6 and the vector passed to `x` has length 5."
     ]
    }
   ],
   "source": [
    "# general bar graph comparing states and their values (in ranked order)\n",
    "# x axis - state\n",
    "# y axis - values \n",
    "#df['state'].plot(kind = \"plot\")\n",
    "\n",
    "# new df\n",
    "#df_float_bargraph = df_flot[df_float[\"Depression\"]]\n",
    "\n",
    "\n",
    "# states r names of the columns\n",
    "depression_values = df_float.loc[\"Depression\"] # get only the row w/ the values for depression\n",
    "\n",
    "\n",
    "sns.barplot(\n",
    "    x = depression_values.index,\n",
    "    y = depression_values.values,\n",
    "    data = df_float\n",
    ")\n",
    "\n",
    "\n",
    "#selected_row.plot.bar(title='Bar Graph for Row2')"
   ]
  },
  {
   "cell_type": "code",
   "execution_count": null,
   "id": "a9ca2bef-5b7b-4bf9-821e-accc5746a3e5",
   "metadata": {},
   "outputs": [],
   "source": []
  },
  {
   "cell_type": "code",
   "execution_count": null,
   "id": "3415a6aa-e6a0-4c2c-bf9b-28a93c4a1f81",
   "metadata": {},
   "outputs": [],
   "source": [
    "# data frame that just shows depression scores of each thing \n"
   ]
  },
  {
   "cell_type": "code",
   "execution_count": 7,
   "id": "32ab6e01-8524-48b0-a27b-d46e564407ef",
   "metadata": {},
   "outputs": [
    {
     "name": "stdout",
     "output_type": "stream",
     "text": [
      "State                                         HI    IA    MI    ND    WV\n",
      "Measure                                                                 \n",
      "Depression                                  13.9  19.2  24.1  22.3  31.1\n",
      "Depression - $25,000-$49,999                16.3  22.6  25.4  27.9  35.6\n",
      "Depression - $50,000-$74,999                11.8  16.5  21.7  19.4  27.3\n",
      "Depression - $75,000 or More                11.8  14.1  18.5  16.2  22.4\n",
      "Depression - Age 65+                        10.0  12.3  16.8  13.7  21.5\n",
      "Depression - Ages 18-44                     16.2  24.0  29.5  28.5  36.5\n",
      "Depression - Ages 45-64                     14.0  17.9  22.7  18.5  32.8\n",
      "Depression - American Indian/Alaska Native   NaN   NaN   NaN  28.7   NaN\n",
      "Depression - Asian                           9.7   NaN   8.9   NaN   NaN\n",
      "Depression - Black                          18.4  11.7  19.7   NaN  22.4\n",
      "Depression - College Grad                   12.9  17.3  19.5  16.1  22.3\n",
      "Depression - Difficulty Hearing             19.0  23.5  26.8  26.8  42.4\n",
      "Depression - Difficulty Seeing              29.3  37.5  36.6  41.0  47.6\n",
      "Depression - Difficulty With Cognition      45.9  54.2  62.8  64.6  65.2\n",
      "Depression - Difficulty With Mobility       24.5  32.8  39.0  39.4  45.7\n",
      "Depression - Difficulty With Self-Care      39.5  46.6  45.7  53.8  56.6\n",
      "Depression - Female                         17.4  25.8  31.2  30.5  39.1\n",
      "Depression - Hawaiian/Pacific Islander       9.6   NaN   NaN   NaN   NaN\n",
      "Depression - High School/GED                12.2  17.3  22.3  19.0  30.6\n",
      "Depression - Hispanic                       20.3  13.2  23.6  28.6  26.4\n",
      "Depression - Independent Living Difficulty  41.5  52.4  55.9  65.5  56.9\n",
      "Depression - LGBQ+                          32.1  41.1  50.4  55.7  64.1\n",
      "Depression - Less Than $25,000              25.7  31.3  36.5  39.9  42.9\n",
      "Depression - Less Than High School          15.3  15.6  26.3  31.1  40.2\n",
      "Depression - Male                           10.3  12.4  16.7  14.5  22.9\n",
      "Depression - Metro                          13.1  19.9  23.6  23.6  30.2\n",
      "Depression - Multiracial                    15.5  31.5  32.2  45.1  27.2\n",
      "Depression - Non-Metro                      17.2  18.3  26.1  20.9  32.7\n",
      "Depression - Not Served                     13.9  19.7  24.9  23.0  32.1\n",
      "Depression - Served                         13.2  14.0  16.1  17.1  23.2\n",
      "Depression - Some Post-High School          15.6  20.4  26.5  23.4  34.6\n",
      "Depression - Straight                       12.6  17.5  21.6  20.3  29.3\n",
      "Depression - White                          18.0  19.8  25.3  21.6  31.6\n",
      "Depression - Without a Disability            9.0  13.0  16.3  15.3  20.3\n"
     ]
    },
    {
     "name": "stderr",
     "output_type": "stream",
     "text": [
      "/var/folders/89/1xx8slwx0sz7bb2jd1vmzghh0000gn/T/ipykernel_33713/767364927.py:4: DtypeWarning: Columns (9) have mixed types. Specify dtype option on import or set low_memory=False.\n",
      "  df2 = pd.read_csv(\"2024-annual-report-report-data-all-states.csv\", encoding=\"latin1\")\n"
     ]
    }
   ],
   "source": [
    "import pandas as pd\n",
    "\n",
    "# Load CSV\n",
    "df2 = pd.read_csv(\"2024-annual-report-report-data-all-states.csv\", encoding=\"latin1\")\n",
    "df2 = df2.drop(columns=[\"Report\",\"Source\", \"LowerCI\", \"UpperCI\"])\n",
    "\n",
    "# Define states of interest\n",
    "states_of_interest = [\"HI\", \"IA\", \"ND\", \"MI\", \"WV\"]\n",
    "\n",
    "# Filter for the states\n",
    "df2 = df2[df2[\"State\"].isin(states_of_interest)]\n",
    "\n",
    "# Filter for Depression factors (anything starting with \"Depression\")\n",
    "depression_df = df2[df2[\"Measure\"].str.startswith(\"Depression\")] # gives us only depression factors for the states we want\n",
    "depression_df = depression_df.drop(columns = [\"Data Year(s)\"])\n",
    "# check unique labels\n",
    "#print(depression_df[\"Measure\"].unique())\n",
    "\n",
    "# Pivot the table: rows = factors, columns = states\n",
    "pivot_table = depression_df.pivot(index=\"Measure\", columns=\"State\", values=\"Value\") # more legible\n",
    "\n",
    "# Display\n",
    "print(pivot_table)\n"
   ]
  },
  {
   "cell_type": "code",
   "execution_count": 9,
   "id": "8418d284-c848-4049-95cc-f6e39e757277",
   "metadata": {},
   "outputs": [],
   "source": [
    "depression_df.to_csv(\"Df_5states_DepressionALL_FACTORS.csv\")"
   ]
  },
  {
   "cell_type": "code",
   "execution_count": 88,
   "id": "ce166245-af87-47b0-9c1b-8ac0232534b4",
   "metadata": {},
   "outputs": [
    {
     "data": {
      "text/html": [
       "<div>\n",
       "<style scoped>\n",
       "    .dataframe tbody tr th:only-of-type {\n",
       "        vertical-align: middle;\n",
       "    }\n",
       "\n",
       "    .dataframe tbody tr th {\n",
       "        vertical-align: top;\n",
       "    }\n",
       "\n",
       "    .dataframe thead th {\n",
       "        text-align: right;\n",
       "    }\n",
       "</style>\n",
       "<table border=\"1\" class=\"dataframe\">\n",
       "  <thead>\n",
       "    <tr style=\"text-align: right;\">\n",
       "      <th></th>\n",
       "      <th>Measure</th>\n",
       "      <th>State</th>\n",
       "      <th>Value</th>\n",
       "      <th>Score</th>\n",
       "      <th>Rank</th>\n",
       "      <th>Data Year(s)</th>\n",
       "    </tr>\n",
       "  </thead>\n",
       "  <tbody>\n",
       "    <tr>\n",
       "      <th>12</th>\n",
       "      <td>Social and Economic Factors</td>\n",
       "      <td>HI</td>\n",
       "      <td>0.438</td>\n",
       "      <td>0.438</td>\n",
       "      <td>14.0</td>\n",
       "      <td>2024</td>\n",
       "    </tr>\n",
       "    <tr>\n",
       "      <th>13</th>\n",
       "      <td>Social and Economic Factors</td>\n",
       "      <td>IA</td>\n",
       "      <td>0.464</td>\n",
       "      <td>0.464</td>\n",
       "      <td>12.0</td>\n",
       "      <td>2024</td>\n",
       "    </tr>\n",
       "    <tr>\n",
       "      <th>23</th>\n",
       "      <td>Social and Economic Factors</td>\n",
       "      <td>MI</td>\n",
       "      <td>-0.225</td>\n",
       "      <td>-0.225</td>\n",
       "      <td>36.0</td>\n",
       "      <td>2024</td>\n",
       "    </tr>\n",
       "    <tr>\n",
       "      <th>29</th>\n",
       "      <td>Social and Economic Factors</td>\n",
       "      <td>ND</td>\n",
       "      <td>0.444</td>\n",
       "      <td>0.444</td>\n",
       "      <td>13.0</td>\n",
       "      <td>2024</td>\n",
       "    </tr>\n",
       "    <tr>\n",
       "      <th>50</th>\n",
       "      <td>Social and Economic Factors</td>\n",
       "      <td>WV</td>\n",
       "      <td>-0.795</td>\n",
       "      <td>-0.795</td>\n",
       "      <td>46.0</td>\n",
       "      <td>2024</td>\n",
       "    </tr>\n",
       "  </tbody>\n",
       "</table>\n",
       "</div>"
      ],
      "text/plain": [
       "                        Measure State  Value  Score  Rank Data Year(s)\n",
       "12  Social and Economic Factors    HI  0.438  0.438  14.0         2024\n",
       "13  Social and Economic Factors    IA  0.464  0.464  12.0         2024\n",
       "23  Social and Economic Factors    MI -0.225 -0.225  36.0         2024\n",
       "29  Social and Economic Factors    ND  0.444  0.444  13.0         2024\n",
       "50  Social and Economic Factors    WV -0.795 -0.795  46.0         2024"
      ]
     },
     "execution_count": 88,
     "metadata": {},
     "output_type": "execute_result"
    }
   ],
   "source": [
    "df2.head()"
   ]
  },
  {
   "cell_type": "code",
   "execution_count": 87,
   "id": "8976435d-5d78-4a6e-86f8-911fd94504c7",
   "metadata": {},
   "outputs": [
    {
     "data": {
      "text/html": [
       "<div>\n",
       "<style scoped>\n",
       "    .dataframe tbody tr th:only-of-type {\n",
       "        vertical-align: middle;\n",
       "    }\n",
       "\n",
       "    .dataframe tbody tr th {\n",
       "        vertical-align: top;\n",
       "    }\n",
       "\n",
       "    .dataframe thead th {\n",
       "        text-align: right;\n",
       "    }\n",
       "</style>\n",
       "<table border=\"1\" class=\"dataframe\">\n",
       "  <thead>\n",
       "    <tr style=\"text-align: right;\">\n",
       "      <th>State</th>\n",
       "      <th>HI</th>\n",
       "      <th>IA</th>\n",
       "      <th>MI</th>\n",
       "      <th>ND</th>\n",
       "      <th>WV</th>\n",
       "    </tr>\n",
       "    <tr>\n",
       "      <th>Measure</th>\n",
       "      <th></th>\n",
       "      <th></th>\n",
       "      <th></th>\n",
       "      <th></th>\n",
       "      <th></th>\n",
       "    </tr>\n",
       "  </thead>\n",
       "  <tbody>\n",
       "    <tr>\n",
       "      <th>Depression - Age 65+</th>\n",
       "      <td>10.0</td>\n",
       "      <td>12.3</td>\n",
       "      <td>16.8</td>\n",
       "      <td>13.7</td>\n",
       "      <td>21.5</td>\n",
       "    </tr>\n",
       "    <tr>\n",
       "      <th>Depression - Ages 18-44</th>\n",
       "      <td>16.2</td>\n",
       "      <td>24.0</td>\n",
       "      <td>29.5</td>\n",
       "      <td>28.5</td>\n",
       "      <td>36.5</td>\n",
       "    </tr>\n",
       "    <tr>\n",
       "      <th>Depression - Ages 45-64</th>\n",
       "      <td>14.0</td>\n",
       "      <td>17.9</td>\n",
       "      <td>22.7</td>\n",
       "      <td>18.5</td>\n",
       "      <td>32.8</td>\n",
       "    </tr>\n",
       "  </tbody>\n",
       "</table>\n",
       "</div>"
      ],
      "text/plain": [
       "State                      HI    IA    MI    ND    WV\n",
       "Measure                                              \n",
       "Depression - Age 65+     10.0  12.3  16.8  13.7  21.5\n",
       "Depression - Ages 18-44  16.2  24.0  29.5  28.5  36.5\n",
       "Depression - Ages 45-64  14.0  17.9  22.7  18.5  32.8"
      ]
     },
     "execution_count": 87,
     "metadata": {},
     "output_type": "execute_result"
    }
   ],
   "source": [
    "# now that we have data for ALLL of the depression factors, we are gonna make a dataframe for  only the factors we want\n",
    "\n",
    "# age \n",
    "depression_by_age = [\"Depression - Age 65+\", \"Depression - Ages 18-44\", \"Depression - Ages 45-64\"]\n",
    "depression_age_df = depression_df[ depression_df[\"Measure\"].isin(depression_by_age)]\n",
    "depression_age_df.pivot(index=\"Measure\",columns=\"State\",values=\"Value\")"
   ]
  },
  {
   "cell_type": "code",
   "execution_count": 92,
   "id": "4e554588-0429-448d-a4d5-1824d179e426",
   "metadata": {},
   "outputs": [
    {
     "data": {
      "text/html": [
       "<div>\n",
       "<style scoped>\n",
       "    .dataframe tbody tr th:only-of-type {\n",
       "        vertical-align: middle;\n",
       "    }\n",
       "\n",
       "    .dataframe tbody tr th {\n",
       "        vertical-align: top;\n",
       "    }\n",
       "\n",
       "    .dataframe thead th {\n",
       "        text-align: right;\n",
       "    }\n",
       "</style>\n",
       "<table border=\"1\" class=\"dataframe\">\n",
       "  <thead>\n",
       "    <tr style=\"text-align: right;\">\n",
       "      <th>State</th>\n",
       "      <th>HI</th>\n",
       "      <th>IA</th>\n",
       "      <th>MI</th>\n",
       "      <th>ND</th>\n",
       "      <th>WV</th>\n",
       "    </tr>\n",
       "    <tr>\n",
       "      <th>Measure</th>\n",
       "      <th></th>\n",
       "      <th></th>\n",
       "      <th></th>\n",
       "      <th></th>\n",
       "      <th></th>\n",
       "    </tr>\n",
       "  </thead>\n",
       "  <tbody>\n",
       "    <tr>\n",
       "      <th>Depression - $25,000-$49,999</th>\n",
       "      <td>16.3</td>\n",
       "      <td>22.6</td>\n",
       "      <td>25.4</td>\n",
       "      <td>27.9</td>\n",
       "      <td>35.6</td>\n",
       "    </tr>\n",
       "    <tr>\n",
       "      <th>Depression - $50,000-$74,999</th>\n",
       "      <td>11.8</td>\n",
       "      <td>16.5</td>\n",
       "      <td>21.7</td>\n",
       "      <td>19.4</td>\n",
       "      <td>27.3</td>\n",
       "    </tr>\n",
       "    <tr>\n",
       "      <th>Depression - $75,000 or More</th>\n",
       "      <td>11.8</td>\n",
       "      <td>14.1</td>\n",
       "      <td>18.5</td>\n",
       "      <td>16.2</td>\n",
       "      <td>22.4</td>\n",
       "    </tr>\n",
       "    <tr>\n",
       "      <th>Depression - Less Than $25,000</th>\n",
       "      <td>25.7</td>\n",
       "      <td>31.3</td>\n",
       "      <td>36.5</td>\n",
       "      <td>39.9</td>\n",
       "      <td>42.9</td>\n",
       "    </tr>\n",
       "  </tbody>\n",
       "</table>\n",
       "</div>"
      ],
      "text/plain": [
       "State                             HI    IA    MI    ND    WV\n",
       "Measure                                                     \n",
       "Depression - $25,000-$49,999    16.3  22.6  25.4  27.9  35.6\n",
       "Depression - $50,000-$74,999    11.8  16.5  21.7  19.4  27.3\n",
       "Depression - $75,000 or More    11.8  14.1  18.5  16.2  22.4\n",
       "Depression - Less Than $25,000  25.7  31.3  36.5  39.9  42.9"
      ]
     },
     "execution_count": 92,
     "metadata": {},
     "output_type": "execute_result"
    }
   ],
   "source": [
    "# income level\n",
    "depression_by_income = [\"Depression - Less Than $25,000\", \"Depression - $25,000-$49,999\", \"Depression - $50,000-$74,999\", \"Depression - $75,000 or More\"]\n",
    "depression_by_income = depression_df[ depression_df[\"Measure\"].isin(depression_by_income)]\n",
    "depression_by_income.pivot(index=\"Measure\",columns=\"State\",values=\"Value\")"
   ]
  },
  {
   "cell_type": "code",
   "execution_count": 89,
   "id": "3420166b-7e49-489c-b0d7-964b0549a1ee",
   "metadata": {},
   "outputs": [
    {
     "data": {
      "text/html": [
       "<div>\n",
       "<style scoped>\n",
       "    .dataframe tbody tr th:only-of-type {\n",
       "        vertical-align: middle;\n",
       "    }\n",
       "\n",
       "    .dataframe tbody tr th {\n",
       "        vertical-align: top;\n",
       "    }\n",
       "\n",
       "    .dataframe thead th {\n",
       "        text-align: right;\n",
       "    }\n",
       "</style>\n",
       "<table border=\"1\" class=\"dataframe\">\n",
       "  <thead>\n",
       "    <tr style=\"text-align: right;\">\n",
       "      <th>State</th>\n",
       "      <th>HI</th>\n",
       "      <th>IA</th>\n",
       "      <th>MI</th>\n",
       "      <th>ND</th>\n",
       "      <th>WV</th>\n",
       "    </tr>\n",
       "    <tr>\n",
       "      <th>Measure</th>\n",
       "      <th></th>\n",
       "      <th></th>\n",
       "      <th></th>\n",
       "      <th></th>\n",
       "      <th></th>\n",
       "    </tr>\n",
       "  </thead>\n",
       "  <tbody>\n",
       "    <tr>\n",
       "      <th>Depression - Female</th>\n",
       "      <td>17.4</td>\n",
       "      <td>25.8</td>\n",
       "      <td>31.2</td>\n",
       "      <td>30.5</td>\n",
       "      <td>39.1</td>\n",
       "    </tr>\n",
       "    <tr>\n",
       "      <th>Depression - Male</th>\n",
       "      <td>10.3</td>\n",
       "      <td>12.4</td>\n",
       "      <td>16.7</td>\n",
       "      <td>14.5</td>\n",
       "      <td>22.9</td>\n",
       "    </tr>\n",
       "  </tbody>\n",
       "</table>\n",
       "</div>"
      ],
      "text/plain": [
       "State                  HI    IA    MI    ND    WV\n",
       "Measure                                          \n",
       "Depression - Female  17.4  25.8  31.2  30.5  39.1\n",
       "Depression - Male    10.3  12.4  16.7  14.5  22.9"
      ]
     },
     "execution_count": 89,
     "metadata": {},
     "output_type": "execute_result"
    }
   ],
   "source": [
    "# gender \n",
    "depression_by_gender = [\"Depression - Female\", \"Depression - Male\"]\n",
    "depression_by_gender = depression_df[ depression_df[\"Measure\"].isin(depression_by_gender)]\n",
    "depression_by_gender.pivot(index=\"Measure\",columns=\"State\",values=\"Value\")"
   ]
  },
  {
   "cell_type": "code",
   "execution_count": null,
   "id": "4b7595aa-033e-4389-b753-b29983c4f95c",
   "metadata": {},
   "outputs": [],
   "source": [
    "# sexuality"
   ]
  },
  {
   "cell_type": "code",
   "execution_count": null,
   "id": "adf995f8-9751-429b-b7b3-998fcae43901",
   "metadata": {},
   "outputs": [],
   "source": [
    "# by health condition"
   ]
  },
  {
   "cell_type": "code",
   "execution_count": null,
   "id": "7c1b4669-f663-484c-8751-8af44e3b0c1d",
   "metadata": {},
   "outputs": [],
   "source": []
  },
  {
   "cell_type": "code",
   "execution_count": 55,
   "id": "3d3b1cbc-466d-4fb2-be51-2fa36d019cb2",
   "metadata": {},
   "outputs": [
    {
     "name": "stdout",
     "output_type": "stream",
     "text": [
      "ascii\n"
     ]
    }
   ],
   "source": [
    "\n",
    "# find what the csv file we are using is encoded in (utf-8 was giving an error)\n",
    "\n",
    "import chardet\n",
    "def detect_encode(file):\n",
    "    with open(file, \"rb\") as f:\n",
    "        result = chardet.detect(f.read(10000))\n",
    "    return result['encoding']\n",
    "myf = \"2024-annual-report-report-data-all-states.csv\"\n",
    "encoding = detect_encode(myf)\n",
    "print(encoding)"
   ]
  },
  {
   "cell_type": "code",
   "execution_count": null,
   "id": "69679b82-207c-449e-80e8-4430c6bc2f30",
   "metadata": {},
   "outputs": [],
   "source": []
  }
 ],
 "metadata": {
  "kernelspec": {
   "display_name": "Python 3 (ipykernel)",
   "language": "python",
   "name": "python3"
  },
  "language_info": {
   "codemirror_mode": {
    "name": "ipython",
    "version": 3
   },
   "file_extension": ".py",
   "mimetype": "text/x-python",
   "name": "python",
   "nbconvert_exporter": "python",
   "pygments_lexer": "ipython3",
   "version": "3.12.7"
  }
 },
 "nbformat": 4,
 "nbformat_minor": 5
}
